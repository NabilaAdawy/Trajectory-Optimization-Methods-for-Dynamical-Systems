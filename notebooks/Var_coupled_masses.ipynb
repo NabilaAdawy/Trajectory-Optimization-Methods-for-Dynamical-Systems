{
  "cells": [
    {
      "cell_type": "code",
      "execution_count": 163,
      "metadata": {},
      "outputs": [],
      "source": [
        "from scipy.linalg import sqrtm\n",
        "import cvxpy as cp\n",
        "from sympy.utilities.lambdify import lambdify\n",
        "import sympy as sp\n",
        "import numpy as np\n",
        "from scipy.linalg import solve_discrete_are as dare \n",
        "from scipy.signal import cont2discrete\n",
        "import time\n",
        "from matplotlib.pyplot import *"
      ]
    },
    {
      "attachments": {},
      "cell_type": "markdown",
      "metadata": {
        "id": "eas_xCcEfubT"
      },
      "source": [
        "\n",
        "Coupled masses dynamical system:\n",
        "\n",
        "$$\n",
        "\\begin{cases}\n",
        "m_1\\ddot{y}_1 + k(y_1 - y_2) = F \\\\ \n",
        "m_2\\ddot{y}_2 + k(y_2 - y_1) = 0\n",
        "\\end{cases}\n",
        "$$"
      ]
    },
    {
      "cell_type": "code",
      "execution_count": 164,
      "metadata": {
        "id": "itc3u1YWglWR"
      },
      "outputs": [
        {
          "name": "stdout",
          "output_type": "stream",
          "text": [
            "[[ 1.  0.]\n",
            " [ 0. 10.]]\n"
          ]
        }
      ],
      "source": [
        "# system parameters\n",
        "m_1 = 1\n",
        "m_2 = 3\n",
        "K = 100\n",
        "\n",
        "param = m_1, m_2, K\n",
        "u_d = 0\n",
        "\n",
        "x_d = np.array([0.1,0.1,0,0])\n",
        "Q = 10*np.diag([1,100,0.1,1])\n",
        "print(Q[2:4, 2:4])\n",
        "# x_d = np.array([0.1,0,0.1,0])\n",
        "# Q = 10*np.diag([1,0.1,100,1])\n",
        "\n",
        "R = np.array([10])\n",
        "C = np.array([[1, 0, 0 ,0]])\n",
        "D = np.array([[0, 0]])\n",
        "# N = 200\n",
        "t0 = 0\n",
        "T = 5\n",
        "freq = 100\n",
        "N = int(freq*T)\n",
        "dt = 1/freq\n",
        "t = np.array(range(N+1))*dt"
      ]
    },
    {
      "cell_type": "code",
      "execution_count": 165,
      "metadata": {},
      "outputs": [
        {
          "data": {
            "text/latex": [
              "$\\displaystyle \\left[\\begin{matrix}0 & 1 & 0 & 0\\\\0 & 0 & 0 & 1\\\\- \\frac{k}{m_{1}} & 0 & \\frac{k}{m_{1}} & 0\\\\\\frac{k}{m_{2}} & 0 & - \\frac{k}{m_{2}} & 0\\end{matrix}\\right]$"
            ],
            "text/plain": [
              "Matrix([\n",
              "[    0, 1,     0, 0],\n",
              "[    0, 0,     0, 1],\n",
              "[-k/m1, 0,  k/m1, 0],\n",
              "[ k/m2, 0, -k/m2, 0]])"
            ]
          },
          "execution_count": 165,
          "metadata": {},
          "output_type": "execute_result"
        }
      ],
      "source": [
        "m1, m2, k = sp.symbols(r'm1 m2 k')\n",
        "\n",
        "x_sym = sp.symbols(r'\\y1 y2 \\dot{\\y1} \\dot{y2}')\n",
        "u_sym = sp.symbols(r'u')\n",
        "\n",
        "def f_cp(x, u, parameters):\n",
        "    m1, m2, k = parameters\n",
        "    y1, dy1, y2, dy2 = x\n",
        "\n",
        "    ddy1 = 1/m1 *(u - k*(y1 - y2))\n",
        "    ddy2 = 1/m2 *(-k*(y2 - y1))\n",
        "\n",
        "    return dy1, dy2, ddy1, ddy2 \n",
        "\n",
        "f_sym = sp.Matrix(f_cp(x_sym, u_sym, (m1, m2, k)))\n",
        "Jx_sym = f_sym.jacobian([x_sym])\n",
        "Ju_sym = f_sym.jacobian([u_sym])\n",
        "Jx_sym\n",
        "    "
      ]
    },
    {
      "cell_type": "code",
      "execution_count": 166,
      "metadata": {},
      "outputs": [
        {
          "data": {
            "text/latex": [
              "$\\displaystyle \\left[\\begin{matrix}0\\\\0\\\\\\frac{1}{m_{1}}\\\\0\\end{matrix}\\right]$"
            ],
            "text/plain": [
              "Matrix([\n",
              "[   0],\n",
              "[   0],\n",
              "[1/m1],\n",
              "[   0]])"
            ]
          },
          "execution_count": 166,
          "metadata": {},
          "output_type": "execute_result"
        }
      ],
      "source": [
        "Ju_sym"
      ]
    },
    {
      "cell_type": "code",
      "execution_count": 167,
      "metadata": {},
      "outputs": [],
      "source": [
        "A_fnc = lambdify([x_sym, u_sym, [m1, m2, k]], Jx_sym)\n",
        "B_fnc = lambdify([x_sym, u_sym, [m1, m2, k]], Ju_sym)"
      ]
    },
    {
      "cell_type": "code",
      "execution_count": 168,
      "metadata": {},
      "outputs": [],
      "source": [
        "A = A_fnc(x_d, u_d, [m_1, m_2, K])\n",
        "B = B_fnc(x_d, u_d, [m_1, m_2, K])"
      ]
    },
    {
      "cell_type": "code",
      "execution_count": 169,
      "metadata": {},
      "outputs": [
        {
          "name": "stdout",
          "output_type": "stream",
          "text": [
            "(4, 4)\n"
          ]
        },
        {
          "data": {
            "text/plain": [
              "array([[ 233735.21929428,   21919.18500926, -221135.35653536,\n",
              "          12418.85962366],\n",
              "       [  21919.18500926,   82562.02934609,  -13665.54729739,\n",
              "          30463.4221373 ],\n",
              "       [-221135.35653536,  -13665.54729739,  219910.1640723 ,\n",
              "          -9174.53210694],\n",
              "       [  12418.85962366,   30463.4221373 ,   -9174.53210694,\n",
              "          23914.94869022]])"
            ]
          },
          "execution_count": 169,
          "metadata": {},
          "output_type": "execute_result"
        }
      ],
      "source": [
        "A_d, B_d, C_d, D_d, _ = cont2discrete((A,B,C,D), dt)\n",
        "\n",
        "def dlqr(A, B, Q, R):\n",
        "    '''Discrete time LTI LQR'''\n",
        "    # Solve the DARE\n",
        "    P = dare(A, B, Q, R)\n",
        "    # Compute the LQR gain\n",
        "    R_inv = np.linalg.inv(R + B.T @ P @ B )\n",
        "    K = R_inv @ (B.T @ P @ A)\n",
        "    return K, P\n",
        "\n",
        "K_LQR, P = dlqr(A_d, B_d, Q, R)\n",
        "print(P.shape)\n",
        "P\n",
        "# P = P[0:2, 0:2]\n",
        "# P"
      ]
    },
    {
      "cell_type": "code",
      "execution_count": 170,
      "metadata": {},
      "outputs": [],
      "source": [
        "M_mat = np.array([[m_1, 0], [0, m_2]])\n",
        "\n",
        "def V_fun(x, param):\n",
        "    m1, m2, k = param\n",
        "    y1, y2 = x\n",
        "    V1 = k*(y1 - y2)\n",
        "    V2 = k*(y2 - y1)\n",
        "    out = cp.bmat((V1,\n",
        "            V2))\n",
        "    return out"
      ]
    },
    {
      "cell_type": "code",
      "execution_count": 171,
      "metadata": {},
      "outputs": [],
      "source": [
        "# define dimensions\n",
        "H, n, m = 20, 2, 1\n",
        "\n",
        "# define variables\n",
        "U = cp.Variable((m, H), name='U')\n",
        "X = cp.Variable((n, H+1), name='X')\n",
        "\n",
        "# X1 = cp.Variable((1, H+1), name='X1')\n",
        "# X2 = cp.Variable((1, H+1), name = 'X2')\n",
        "\n",
        "# define parameters\n",
        "Psqrt = sqrtm(P)\n",
        "Qsqrt = sqrtm(Q)\n",
        "Rsqrt = sqrtm([R])\n",
        "U_max = cp.Parameter(m, name='U_max')\n",
        "U_min = cp.Parameter(m, name='U_min')\n",
        "X_max = cp.Parameter((n,1), name='X_max')\n",
        "X_min = cp.Parameter((n,1), name='X_min')\n",
        "\n",
        "x_init_0 = cp.Parameter(n, name='x_init_0')\n",
        "x_init_1 = cp.Parameter(n, name='x_init_1')\n",
        "# q = cp.Parameter((4, H+1), name='q')\n",
        "# VEL = cp.Parameter((n, H+1), name = 'VEL')\n",
        "\n",
        "VEL = (X[:,1:] - X[:,:H])/dt \n",
        "q = cp.vstack((X[:,:H], VEL))\n",
        "\n",
        "# VEL1 = cp.Parameter((1, H+1), name='VEL1')\n",
        "# VEL2 = cp.Parameter((1, H+1), name='VEL2')\n",
        "# X = cp.Parameter((n, H+1), name = 'X')\n",
        "# X = cp.vstack((X1, X2))\n",
        "\n",
        "# VEL1 = (X1[:,1:] - X1[:,:H])/dt \n",
        "# VEL2 = (X2[:,1:] - X2[:,:H])/dt \n",
        "\n",
        "# q = cp.vstack((X1[:,:H], VEL1, X2[:,:H], VEL2))\n",
        "# print((Psqrt@q).shape)\n",
        "# print((Qsqrt@q).shape)\n",
        "\n",
        "# define objective\n",
        "objective = cp.Minimize(cp.sum_squares(Psqrt@q[:,H-1]) + cp.sum_squares(Qsqrt@q[:,:H])\n",
        "                          + cp.sum_squares(Rsqrt@U)) \n",
        "\n",
        "# objective = cp.Minimize(cp.sum_squares(Psqrt[0:2, 0:2]@ X[:,:H]) + cp.sum_squares(Qsqrt[0:2, 0:2]@X[:,:H])\n",
        "#                         + cp.sum_squares(Psqrt[2:4, 2:4]@VEL) + cp.sum_squares(Qsqrt[2:4, 2:4]@VEL)\n",
        "#                           + cp.sum_squares(Rsqrt@U))                           \n",
        "\n",
        "deriv = (X[:,2:] - 2*X[:,1:-1] + X[:,:H-1])/(dt**2)\n",
        "dyn = M_mat @ deriv + V_fun(X[:,1:-1], param) - (np.array([[1], [0]])@ U[:,:-1])\n",
        "\n",
        "# define constraints\n",
        "constraints = [dyn == 0,\n",
        "               U <= U_max,\n",
        "               U >= U_min,\n",
        "               X <= X_max,\n",
        "               X >= X_min,\n",
        "            #    X[:,H] == np.zeros(2), \n",
        "               X[:,0] == x_init_0,\n",
        "               X[:,1] == x_init_1]\n",
        "\n",
        "# define problem\n",
        "problem = cp.Problem(objective, constraints)"
      ]
    },
    {
      "cell_type": "code",
      "execution_count": 172,
      "metadata": {},
      "outputs": [],
      "source": [
        "x0 = np.array([0.2, 0.2])\n",
        "x1 = np.array([0.2, 0.2])\n",
        "\n",
        "problem.param_dict['U_max'].value = [10]\n",
        "problem.param_dict['U_min'].value = [-10]\n",
        "problem.param_dict['X_max'].value = 1000*np.ones((2,1))\n",
        "problem.param_dict['X_min'].value = -1000*np.ones((2,1))\n",
        "problem.param_dict['x_init_0'].value = x0\n",
        "problem.param_dict['x_init_1'].value = x1"
      ]
    },
    {
      "attachments": {},
      "cell_type": "markdown",
      "metadata": {},
      "source": [
        "t0 = time.time()\n",
        "val = problem.solve()\n",
        "t1 = time.time()\n",
        "print('\\nCVXPY\\nSolve time: %.3f ms' % (1000 * (t1 - t0)))\n",
        "print('Objective function value: %.6f\\n' % val)\n",
        "\n",
        "X_opt = problem.var_dict['X'].value\n",
        "U_opt = problem.var_dict['U'].value"
      ]
    },
    {
      "cell_type": "code",
      "execution_count": 173,
      "metadata": {},
      "outputs": [
        {
          "name": "stdout",
          "output_type": "stream",
          "text": [
            "\n",
            "CVXPY\n",
            "Solve time: 44.010 ms\n",
            "Objective function value: inf\n",
            "\n"
          ]
        }
      ],
      "source": [
        "t0 = time.time()\n",
        "val = problem.solve()\n",
        "t1 = time.time()\n",
        "print('\\nCVXPY\\nSolve time: %.3f ms' % (1000 * (t1 - t0)))\n",
        "print('Objective function value: %.6f\\n' % val)\n",
        "\n",
        "X_opt = problem.var_dict['X'].value\n",
        "# X2_opt = problem.var_dict['X2'].value\n",
        "\n",
        "U_opt = problem.var_dict['U'].value"
      ]
    },
    {
      "cell_type": "code",
      "execution_count": 174,
      "metadata": {},
      "outputs": [
        {
          "ename": "AttributeError",
          "evalue": "'NoneType' object has no attribute 'shape'",
          "output_type": "error",
          "traceback": [
            "\u001b[1;31m---------------------------------------------------------------------------\u001b[0m",
            "\u001b[1;31mAttributeError\u001b[0m                            Traceback (most recent call last)",
            "Cell \u001b[1;32mIn[174], line 1\u001b[0m\n\u001b[1;32m----> 1\u001b[0m \u001b[39mprint\u001b[39m(X_opt\u001b[39m.\u001b[39;49mshape)\n\u001b[0;32m      2\u001b[0m y1, y2 \u001b[39m=\u001b[39m X_opt\n\u001b[0;32m      4\u001b[0m plot(y1, \u001b[39m'\u001b[39m\u001b[39mr\u001b[39m\u001b[39m'\u001b[39m, linewidth\u001b[39m=\u001b[39m\u001b[39m2.0\u001b[39m, label \u001b[39m=\u001b[39m \u001b[39mr\u001b[39m\u001b[39m'\u001b[39m\u001b[39m$y1$\u001b[39m\u001b[39m'\u001b[39m)\n",
            "\u001b[1;31mAttributeError\u001b[0m: 'NoneType' object has no attribute 'shape'"
          ]
        }
      ],
      "source": [
        "print(X_opt.shape)\n",
        "y1, y2 = X_opt\n",
        "\n",
        "plot(y1, 'r', linewidth=2.0, label = r'$y1$')\n",
        "plot(y2, 'b', linewidth=2.0, label = r'$y2$')\n",
        "grid(color='black', linestyle='--', linewidth=1.0, alpha = 0.7)\n",
        "grid(True)\n",
        "legend()\n",
        "ylabel('distance')\n",
        "xlabel('Time')\n",
        "show()\n",
        "\n",
        "plot(U_opt[0,:], 'r', linewidth=2.0, label = \"U_opt\")\n",
        "grid(color='black', linestyle='--', linewidth=1.0, alpha = 0.7)\n",
        "grid(True)\n",
        "legend()\n",
        "ylabel('control')\n",
        "xlabel('Time')\n",
        "show()"
      ]
    },
    {
      "attachments": {},
      "cell_type": "markdown",
      "metadata": {},
      "source": [
        "### Simulation"
      ]
    },
    {
      "cell_type": "code",
      "execution_count": null,
      "metadata": {},
      "outputs": [],
      "source": [
        "# u_max = 100\n",
        "# solve_time = []\n",
        "# U = 0\n",
        "# X = x0\n",
        "\n",
        "# problem.param_dict['X_max'].value = np.array([[100], [100]])\n",
        "# problem.param_dict['X_min'].value = np.array([[-100], [-100]])\n",
        "# problem.param_dict['U_max'].value = [u_max]\n",
        "# problem.param_dict['U_min'].value = [-u_max]\n",
        "\n",
        "# for k in range(N):\n",
        "#   # MPC CONTROL\n",
        "#   problem.param_dict['x_init'].value = x0\n",
        "#   val = problem.solve()\n",
        "\n",
        "#   U_opt = problem.var_dict['U'].value\n",
        "\n",
        "#   u = U_opt[0][0]\n",
        "\n",
        "#   # x0 = A_d@x0 + B_d@[u]\n",
        "  \n",
        "#   # deriv = (X[:,2:] - 2*X[:,1:-1] + X[:,:H-1])/(dt**2)\n",
        "\n",
        "#   # dyn = M_mat @ deriv + V_fun(X[:,1:-1], param) - (np.array([[1], [0]])@ U[:,:-1])\n",
        "\n",
        "  \n",
        "#   X = np.vstack((X, x0))\n",
        "#   U = np.vstack((U, u))\n",
        "\n",
        "# y1, y2 = np.split(X, 2, axis = 1)\n",
        "# t = np.array(range(N+1))*dt\n"
      ]
    },
    {
      "cell_type": "code",
      "execution_count": null,
      "metadata": {},
      "outputs": [],
      "source": [
        "# plot(t, y1, 'r', linewidth=2.0, label = r'$y1$')\n",
        "# plot(t, y2, 'b', linewidth=2.0, label = r'$y2$')\n",
        "# grid(color='black', linestyle='--', linewidth=1.0, alpha = 0.7)\n",
        "# grid(True)\n",
        "# legend()\n",
        "# ylabel(r'Distance $y1, y2$')\n",
        "# xlabel(r'Time $t$ (s)')\n",
        "# show()"
      ]
    },
    {
      "cell_type": "code",
      "execution_count": null,
      "metadata": {},
      "outputs": [],
      "source": [
        "# plot(t, U, 'r', linewidth=2.0, label = \"U_opt\")\n",
        "# grid(color='black', linestyle='--', linewidth=1.0, alpha = 0.7)\n",
        "# grid(True)\n",
        "# legend()\n",
        "# ylabel('control')\n",
        "# xlabel('Time')\n",
        "# show()"
      ]
    }
  ],
  "metadata": {
    "colab": {
      "provenance": []
    },
    "kernelspec": {
      "display_name": "proj",
      "language": "python",
      "name": "python3"
    },
    "language_info": {
      "codemirror_mode": {
        "name": "ipython",
        "version": 3
      },
      "file_extension": ".py",
      "mimetype": "text/x-python",
      "name": "python",
      "nbconvert_exporter": "python",
      "pygments_lexer": "ipython3",
      "version": "3.10.9"
    },
    "vscode": {
      "interpreter": {
        "hash": "cb797dcdc13d161750859119f207f7dfabb59e07a6bfc8436fceb9075b5f9cdf"
      }
    }
  },
  "nbformat": 4,
  "nbformat_minor": 0
}
